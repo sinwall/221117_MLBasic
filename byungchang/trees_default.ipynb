{
 "cells": [
  {
   "cell_type": "code",
   "execution_count": 2,
   "metadata": {},
   "outputs": [],
   "source": [
    "import numpy as np\n",
    "import pandas as pd\n",
    "import matplotlib.pyplot as plt\n",
    "plt.rcParams['font.family'] = 'DejaVu Sans Mono'\n",
    "input_path = '../../input'"
   ]
  },
  {
   "cell_type": "code",
   "execution_count": 3,
   "metadata": {},
   "outputs": [],
   "source": [
    "from sklearn.model_selection import train_test_split\n",
    "\n",
    "df = pd.read_csv(f'../../input/default of credit card clients.csv', header=1)\n",
    "df = df.rename(columns={'PAY_0': 'PAY_1'})\n",
    "df_train, df_test = train_test_split(df, test_size=0.2, stratify=df['default payment next month'], random_state=42)\n",
    "df_train = df_train.sort_values(by='ID').reset_index(drop=True)\n",
    "df_test = df_test.sort_values(by='ID').reset_index(drop=True)"
   ]
  },
  {
   "cell_type": "code",
   "execution_count": 4,
   "metadata": {},
   "outputs": [],
   "source": [
    "col_names = df_train.columns[1:-1]\n",
    "\n",
    "X_train, X_test = df_train[col_names], df_test[col_names]\n",
    "y_train, y_test = df_train['default payment next month'], df_test['default payment next month']"
   ]
  },
  {
   "cell_type": "code",
   "execution_count": 5,
   "metadata": {},
   "outputs": [
    {
     "name": "stdout",
     "output_type": "stream",
     "text": [
      "0.8262083333333333\n",
      "0.814\n"
     ]
    }
   ],
   "source": [
    "from sklearn.preprocessing import StandardScaler, PowerTransformer\n",
    "from sklearn.linear_model import LogisticRegression\n",
    "from sklearn.svm import SVC\n",
    "from sklearn.pipeline import make_pipeline\n",
    "from sklearn.metrics import accuracy_score\n",
    "from sklearn.base import BaseEstimator, TransformerMixin\n",
    "\n",
    "\n",
    "\n",
    "class MyFeatureTransformer(BaseEstimator, TransformerMixin):\n",
    "    pow_tfm_names = [\n",
    "        'LIMIT_BAL', 'AGE',\n",
    "        'BILL_AMT1', 'BILL_AMT2', 'BILL_AMT3', 'BILL_AMT4', 'BILL_AMT5', 'BILL_AMT6',\n",
    "        'PAY_AMT1', 'PAY_AMT2', 'PAY_AMT3', 'PAY_AMT4', 'PAY_AMT5', 'PAY_AMT6',\n",
    "    ]\n",
    "\n",
    "    def __init__(self):\n",
    "        super(MyFeatureTransformer, self).__init__()\n",
    "        self.power_transformer1 = PowerTransformer()\n",
    "        self.power_transformer2 = PowerTransformer()\n",
    "\n",
    "    def fit(self, X, y=None):\n",
    "        self.power_transformer1.fit(X[self.pow_tfm_names], y)\n",
    "        delta = X.loc[:, 'BILL_AMT1':'BILL_AMT6'].values - X.loc[:, 'PAY_AMT1':'PAY_AMT6'].values\n",
    "        self.power_transformer2.fit(delta)\n",
    "        return self\n",
    "    \n",
    "    def transform(self, X, y=None):\n",
    "        zero_or_not = (X.loc[:, 'BILL_AMT1':'PAY_AMT6'] == 0)\n",
    "        pow_tfmed = self.power_transformer1.transform(X[self.pow_tfm_names])\n",
    "        delta = X.loc[:, 'BILL_AMT1':'BILL_AMT6'].values - X.loc[:, 'PAY_AMT1':'PAY_AMT6'].values\n",
    "        delta_pow_tfmed = self.power_transformer2.transform(delta)\n",
    "        return np.concatenate([X, zero_or_not, pow_tfmed, delta, delta_pow_tfmed], axis=1)\n",
    "\n",
    "model = make_pipeline(\n",
    "    MyFeatureTransformer(),\n",
    "    StandardScaler(),\n",
    "    SVC(\n",
    "        random_state=42\n",
    "    )\n",
    ")\n",
    "model.fit(X_train, y_train)\n",
    "print(accuracy_score(y_train, model.predict(X_train)))\n",
    "print(accuracy_score(y_test, model.predict(X_test)))"
   ]
  },
  {
   "cell_type": "code",
   "execution_count": 8,
   "metadata": {},
   "outputs": [
    {
     "name": "stdout",
     "output_type": "stream",
     "text": [
      "0.9994583333333333\n",
      "0.8138333333333333\n"
     ]
    }
   ],
   "source": [
    "from sklearn.base import BaseEstimator, TransformerMixin\n",
    "from sklearn.tree import DecisionTreeClassifier\n",
    "from sklearn.ensemble import RandomForestClassifier\n",
    "from sklearn.naive_bayes import CategoricalNB\n",
    "from sklearn.pipeline import make_pipeline\n",
    "\n",
    "class MyFeatures(BaseEstimator, TransformerMixin):\n",
    "    def fit(self, X, y=None):\n",
    "        return self\n",
    "        \n",
    "    def transform(self, X, y=None):\n",
    "        X_new = dict()\n",
    "        X_new['PAY_mean'] = X.loc[:, 'PAY_1':'PAY_6'].mean(axis=1)\n",
    "        X_new['PAY_std'] = X.loc[:, 'PAY_1':'PAY_6'].std(axis=1)\n",
    "\n",
    "        pay_diff = X.loc[:, 'PAY_1':'PAY_6'].diff(axis=1).iloc[:, 1:]\n",
    "        pay_diff_sign = np.sign(pay_diff)\n",
    "        X_new['PAY_diff_mean'] = pay_diff.mean(axis=1)\n",
    "        X_new['PAY_inc_cnt'] = (pay_diff_sign == 1.).sum(axis=1)\n",
    "        X_new['PAY_dec_cnt'] = (pay_diff_sign == -1.).sum(axis=1)\n",
    "\n",
    "        bill_amt = X.loc[:, 'BILL_AMT1':'BILL_AMT6']\n",
    "        bill_amt_diff = bill_amt.diff(axis=1).iloc[:, 1:]\n",
    "        X_new['BILL_AMT_diff_mean'] = bill_amt_diff.mean(axis=1)\n",
    "        X_new['BILL_AMT_diff_abs_mean'] = bill_amt_diff.abs().mean(axis=1)\n",
    "        X_new['BILL_AMT_net_delta'] = X['BILL_AMT1'] - X['BILL_AMT6']\n",
    "\n",
    "        pay_amt = X.loc[:, 'PAY_AMT1':'PAY_AMT6']\n",
    "        pay_amt_diff = pay_amt.diff(axis=1).iloc[:, 1:]\n",
    "        X_new['PAY_AMT_net_delta'] = X['PAY_AMT1'] - X['PAY_AMT6']\n",
    "        X_new['PAY_AMT_sum'] = X.loc[:, 'PAY_AMT1':'PAY_AMT6'].sum(axis=1)\n",
    "        # X_new['PAY_AMT_cumsum'] = np.cumsum(pay_amt, axis=1)\n",
    "        X_new['PAY_diff_mean'] = pay_amt_diff.mean(axis=1)\n",
    "        X_new['PAY_diff_abs_mean'] = pay_amt_diff.abs().mean(axis=1)\n",
    "\n",
    "        return pd.concat([X, pd.DataFrame(X_new)], axis=1)\n",
    "\n",
    "model = make_pipeline(\n",
    "    MyFeatures(),\n",
    "    RandomForestClassifier(\n",
    "        random_state=42\n",
    "    ),\n",
    ")\n",
    "model.fit(X_train, y_train)\n",
    "print(accuracy_score(y_train, model.predict(X_train)))\n",
    "print(accuracy_score(y_test, model.predict(X_test)))"
   ]
  },
  {
   "cell_type": "code",
   "execution_count": null,
   "metadata": {},
   "outputs": [
    {
     "name": "stdout",
     "output_type": "stream",
     "text": [
      "gen\tnevals\tfitness \tfitness_std\tfitness_max\tfitness_min\n",
      "0  \t30    \t0.801293\t0.025092   \t0.820708   \t0.747833   \n",
      "1  \t60    \t0.818135\t0.00876014 \t0.820708   \t0.773917   \n",
      "2  \t60    \t0.820519\t0.0003703  \t0.82125    \t0.819375   \n",
      "3  \t60    \t0.820769\t0.000385611\t0.821333   \t0.819875   \n",
      "4  \t60    \t0.821047\t0.000435775\t0.821708   \t0.819708   \n",
      "5  \t60    \t0.82141 \t0.000240583\t0.821917   \t0.820958   \n",
      "6  \t60    \t0.821579\t0.000257604\t0.821917   \t0.82125    \n",
      "7  \t60    \t0.82166 \t0.000379919\t0.821958   \t0.820417   \n",
      "8  \t60    \t0.821835\t0.000168216\t0.821958   \t0.821167   \n",
      "9  \t60    \t0.8219  \t4.38326e-05\t0.821917   \t0.821708   \n",
      "10 \t60    \t0.821849\t0.000211773\t0.821917   \t0.820792   \n"
     ]
    },
    {
     "data": {
      "text/plain": [
       "GASearchCV(estimator=Pipeline(steps=[('myfeatures', MyFeatures()),\n",
       "                                     ('randomforestclassifier',\n",
       "                                      RandomForestClassifier(max_depth=5,\n",
       "                                                             min_samples_split=10,\n",
       "                                                             n_estimators=33,\n",
       "                                                             random_state=42))]),\n",
       "           generations=10,\n",
       "           param_grid={'randomforestclassifier__class_weight': <sklearn_genetic.space.space.Categorical object at 0x0000020E864AC340>,\n",
       "                       'randomforestclassifier__criterio...\n",
       "                       'randomforestclassifier__max_depth': <sklearn_genetic.space.space.Integer object at 0x0000020EDB371F10>,\n",
       "                       'randomforestclassifier__min_samples_split': <sklearn_genetic.space.space.Integer object at 0x0000020E8B1F61C0>,\n",
       "                       'randomforestclassifier__n_estimators': <sklearn_genetic.space.space.Integer object at 0x0000020E8B20FFD0>},\n",
       "           population_size=30, return_train_score=True, scoring='accuracy')"
      ]
     },
     "execution_count": 20,
     "metadata": {},
     "output_type": "execute_result"
    }
   ],
   "source": [
    "from sklearn.ensemble import RandomForestClassifier\n",
    "from sklearn_genetic import GASearchCV\n",
    "from sklearn_genetic.space import Categorical, Integer, Continuous\n",
    "\n",
    "param_grid = {\n",
    "    'randomforestclassifier__n_estimators': Integer(10, 50, random_state=42),\n",
    "    'randomforestclassifier__criterion': Categorical(['gini', 'entropy'], random_state=42),\n",
    "    'randomforestclassifier__max_depth': Integer(2, 20, random_state=42),\n",
    "    'randomforestclassifier__min_samples_split': Integer(2, 20, random_state=42),\n",
    "    'randomforestclassifier__class_weight': Categorical(['balanced', None], random_state=42)\n",
    "}\n",
    "\n",
    "model = make_pipeline(\n",
    "    MyFeatures(),\n",
    "    RandomForestClassifier(\n",
    "        random_state=42\n",
    "    ),\n",
    ")\n",
    "ga_cv = GASearchCV(\n",
    "    model,\n",
    "    param_grid=param_grid,\n",
    "    population_size=30,\n",
    "    generations=10,\n",
    "    scoring='accuracy'\n",
    ")\n",
    "ga_cv.fit(X_train, y_train)\n",
    "accuracy_score(y_test, ga_cv.best_estimator_.predict(X_test))"
   ]
  },
  {
   "cell_type": "code",
   "execution_count": null,
   "metadata": {},
   "outputs": [
    {
     "data": {
      "text/plain": [
       "0.8181666666666667"
      ]
     },
     "execution_count": 18,
     "metadata": {},
     "output_type": "execute_result"
    }
   ],
   "source": [
    "accuracy_score(y_test, ga_cv.best_estimator_.predict(X_test))"
   ]
  },
  {
   "cell_type": "code",
   "execution_count": null,
   "metadata": {},
   "outputs": [
    {
     "data": {
      "text/plain": [
       "0.7788333333333334"
      ]
     },
     "execution_count": 184,
     "metadata": {},
     "output_type": "execute_result"
    }
   ],
   "source": [
    "(1-y_test).mean()"
   ]
  }
 ],
 "metadata": {
  "kernelspec": {
   "display_name": "Python 3.8.6 64-bit",
   "language": "python",
   "name": "python3"
  },
  "language_info": {
   "codemirror_mode": {
    "name": "ipython",
    "version": 3
   },
   "file_extension": ".py",
   "mimetype": "text/x-python",
   "name": "python",
   "nbconvert_exporter": "python",
   "pygments_lexer": "ipython3",
   "version": "3.8.6"
  },
  "orig_nbformat": 4,
  "vscode": {
   "interpreter": {
    "hash": "78ba7276ca7520b75e078490fe8903ecbd27a619a51829001806ed27188ed733"
   }
  }
 },
 "nbformat": 4,
 "nbformat_minor": 2
}
