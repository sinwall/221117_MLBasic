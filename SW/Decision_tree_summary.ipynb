{
 "cells": [
  {
   "cell_type": "markdown",
   "metadata": {},
   "source": [
    "# Default of Credit Card Clients\n",
    "## Decision tree type analysis"
   ]
  },
  {
   "attachments": {},
   "cell_type": "markdown",
   "metadata": {},
   "source": [
    "### EDA: rolling\n",
    "\n",
    "```python\n",
    "fig, axes = plt.subplots(12,3,sharex=True,sharey=True,figsize=(20,30))\n",
    "for i,col in enumerate(columns):\n",
    "    temp = pd.DataFrame({col:df[col].to_numpy(),'default':df['default'].to_numpy()})\n",
    "    temp = temp.sort_values(col)\n",
    "    temp.reset_index(inplace=True)\n",
    "    axes[i//3,i%3].scatter(temp.index, temp.default.rolling(600).mean(),s=2)\n",
    "    axes[i//3,i%3].set_xlabel(col)\n",
    "    axes[i//3,i%3].set_ylim((0,1))\n",
    "    axes[i//3,i%3].set_xticks([])\n",
    "plt.savefig('./output/EDA/rolling_raw.png',dpi=300)\n",
    "plt.show()\n",
    "plt.close()\n",
    "```\n"
   ]
  },
  {
   "attachments": {},
   "cell_type": "markdown",
   "metadata": {},
   "source": [
    "``` python\n",
    "fig, axes = plt.subplots(12,3,sharex=True,sharey=True,figsize=(20,30))\n",
    "for i,col in enumerate(columns):\n",
    "    temp = pd.DataFrame({col:df[col].to_numpy(),'default':df['default'].to_numpy()})\n",
    "    temp = temp.sort_values(col)\n",
    "    temp.reset_index(inplace=True)\n",
    "    axes[i//3,i%3].scatter(temp.index, temp.default.rolling(600).mean(),s=2)\n",
    "    axes[i//3,i%3].set_xlabel(col)\n",
    "    axes[i//3,i%3].set_ylim((0,1))\n",
    "    axes[i//3,i%3].set_xticks([])\n",
    "plt.savefig('./output/EDA/rolling_raw.png',dpi=300)\n",
    "plt.show()\n",
    "plt.close()\n",
    "```\n"
   ]
  },
  {
   "attachments": {},
   "cell_type": "markdown",
   "metadata": {},
   "source": [
    "\n",
    "![rolling_nonlog][def] \n",
    "\n",
    "[def]: ~/klosterle97/git/MLBasic22/221117_MLBasic/SW/output/EDA/rolling_raw.jpg \"Rolloing_raw\""
   ]
  },
  {
   "attachments": {},
   "cell_type": "markdown",
   "metadata": {},
   "source": [
    "![dd](./output/EDA/rolling_log.png)"
   ]
  },
  {
   "attachments": {},
   "cell_type": "markdown",
   "metadata": {},
   "source": [
    "![dd](221117_MLBasic/SW/output/EDA/rolling_raw.png, 'rolling'))"
   ]
  }
 ],
 "metadata": {
  "kernelspec": {
   "display_name": "vir_py_10",
   "language": "python",
   "name": "python3"
  },
  "language_info": {
   "codemirror_mode": {
    "name": "ipython",
    "version": 3
   },
   "file_extension": ".py",
   "mimetype": "text/x-python",
   "name": "python",
   "nbconvert_exporter": "python",
   "pygments_lexer": "ipython3",
   "version": "3.10.8 | packaged by conda-forge | (main, Nov 22 2022, 08:26:04) [GCC 10.4.0]"
  },
  "orig_nbformat": 4,
  "vscode": {
   "interpreter": {
    "hash": "9abb538871b4e03b427e9482af4cbea7329408220ff7b8d0c3bc51f0a54e037b"
   }
  }
 },
 "nbformat": 4,
 "nbformat_minor": 2
}
