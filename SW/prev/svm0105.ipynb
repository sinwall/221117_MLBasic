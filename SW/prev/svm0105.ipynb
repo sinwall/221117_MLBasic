{
 "cells": [
  {
   "attachments": {},
   "cell_type": "markdown",
   "metadata": {},
   "source": [
    "## Default of Credit Card Clients\n",
    "### SVM "
   ]
  },
  {
   "cell_type": "code",
   "execution_count": 1,
   "metadata": {},
   "outputs": [],
   "source": [
    "import pandas as pd\n",
    "import numpy as np\n",
    "import os\n",
    "import matplotlib.pyplot as plt\n",
    "from sklearn.model_selection import StratifiedShuffleSplit\n",
    "from sklearn.preprocessing import MinMaxScaler\n",
    "df_original = pd.read_excel(\"./input/default of credit card clients.xls\",header=1)\n",
    "df_original =df_original.rename({'PAY_0' : 'PAY_1','default payment next month':'default'},axis=1)\n",
    "df = df_original.copy()\n",
    "N_labels = [column for column in df_original.columns if column !='default']\n",
    "split = StratifiedShuffleSplit(n_splits=1, test_size=0.25, random_state=42)\n",
    "for train_index , test_index in split.split(df,df.iloc[:,[2,-1]]):\n",
    "    df_train, label_train= df[N_labels].loc[train_index],df.default[train_index]\n",
    "    df_test, label_test= df[N_labels].loc[test_index], df.default[test_index]\n",
    "    "
   ]
  },
  {
   "cell_type": "code",
   "execution_count": 2,
   "metadata": {},
   "outputs": [],
   "source": [
    "from sklearn.base import TransformerMixin, BaseEstimator\n",
    "class BasicTransformer(BaseEstimator,TransformerMixin):\n",
    "    def __init__(self,scale = 'log'):\n",
    "        self.columns=['LIMIT_BAL', 'SEX', 'EDUCATION', 'MARRIAGE', 'AGE', 'PAY_1',\n",
    "       'PAY_2', 'PAY_3', 'PAY_4', 'PAY_5', 'PAY_6', 'BILL_AMT1', 'BILL_AMT2',\n",
    "       'BILL_AMT3', 'BILL_AMT4', 'BILL_AMT5', 'BILL_AMT6', 'PAY_AMT1',\n",
    "       'PAY_AMT2', 'PAY_AMT3', 'PAY_AMT4', 'PAY_AMT5', 'PAY_AMT6', \n",
    "       'USAGE_1', 'USAGE_2', 'USAGE_3', 'USAGE_4', 'USAGE_5',\n",
    "       'DIFF_0', 'DIFF_1', 'DIFF_2', 'DIFF_3',\n",
    "       'DIFF_4', 'log_LIMIT_BAL', 'log_BILL_AMT1', 'log_BILL_AMT2',\n",
    "       'log_BILL_AMT3', 'log_BILL_AMT4', 'log_BILL_AMT5', 'log_BILL_AMT6',\n",
    "       'log_PAY_AMT1', 'log_PAY_AMT2', 'log_PAY_AMT3', 'log_PAY_AMT4',\n",
    "       'log_PAY_AMT5', 'log_PAY_AMT6', 'log_USAGE_1', 'log_USAGE_2',\n",
    "       'log_USAGE_3', 'log_USAGE_4', 'log_USAGE_5', 'log_DIFF_0',\n",
    "       'log_DIFF_1', 'log_DIFF_2', 'log_DIFF_3',\n",
    "       'log_DIFF_4']\n",
    "        self.log_columns=['log_LIMIT_BAL', 'SEX', 'EDUCATION', 'MARRIAGE', 'AGE', 'PAY_1',\n",
    "       'PAY_2', 'PAY_3', 'PAY_4', 'PAY_5', 'PAY_6',\n",
    "       'log_BILL_AMT1','log_BILL_AMT2', 'log_BILL_AMT3', 'log_BILL_AMT4', 'log_BILL_AMT5',\n",
    "       'log_BILL_AMT6', 'log_PAY_AMT1', 'log_PAY_AMT2', 'log_PAY_AMT3',\n",
    "       'log_PAY_AMT4', 'log_PAY_AMT5', 'log_PAY_AMT6', 'log_USAGE_1',\n",
    "       'log_USAGE_2', 'log_USAGE_3', 'log_USAGE_4', 'log_USAGE_5',\n",
    "       'log_DIFF_0', 'log_DIFF_1', 'log_DIFF_2', 'log_DIFF_3', 'log_DIFF_4']\n",
    "        self.scale = scale \n",
    "    \n",
    "    def fit(self,x=None , y = None):\n",
    "        return self\n",
    "    def log_pre (self,x):\n",
    "        return np.log(1+abs(2*x))*np.sign(x)\n",
    "    def log_pre_col (self,column):\n",
    "        return column.map(lambda x:self.log_pre(x))\n",
    "    \n",
    "    def transform(self,df,y=None):\n",
    "        #Usage\n",
    "        df_usage = pd.DataFrame()\n",
    "        df_usage['ID']=df.ID\n",
    "        BILL = [column for column in df.columns if 'BILL' in column]\n",
    "        PAY = [column for column in df.columns if 'PAY_AMT' in column]\n",
    "        for i in range(5):\n",
    "            df_usage[f\"USAGE_{i+1}\"] = df[BILL[i]]-(df[BILL[i+1]]-df[PAY[i]])\n",
    "        #difference\n",
    "        df_difference =pd.DataFrame()\n",
    "        df_difference['ID'] = df.ID\n",
    "        for i in range(5):\n",
    "            df_difference[f\"DIFF_{i}\"] = df[BILL[i+1]]-df[PAY[i]]\n",
    "        USAGE = [column for column in df_usage.columns if column !='ID']\n",
    "        DIFF = [column for column in df_difference.columns if column !='ID']\n",
    "        LIM =['LIMIT_BAL']\n",
    "        ## Logarithmic Scaling attribute \n",
    "        df = pd.concat([df,df_usage.iloc[:,1:],df_difference.iloc[:,1:]],axis=1)\n",
    "        df_log =pd.concat([df.ID,df[LIM+BILL+PAY+USAGE+DIFF].apply(self.log_pre_col,axis=0)],axis=1) #apply(function,axis=) map of those who use index/column as a index\n",
    "        rename_dict = {}\n",
    "        for i in df_log.iloc[:,1:].columns:\n",
    "            rename_dict[i] = 'log_'+i\n",
    "        df_log =df_log.rename(rename_dict,axis=1)\n",
    "        self.BILL = BILL\n",
    "        self.PAY =PAY\n",
    "        self.DIFF = DIFF\n",
    "        self.USAGE =USAGE\n",
    "        df = pd.concat([df,df_log[[column for column in df_log.columns if column !='ID']]],axis=1)\n",
    "        if self.scale == 'log':\n",
    "            return df[self.log_columns].to_numpy()\n",
    "        return df[self.columns].to_numpy()"
   ]
  },
  {
   "cell_type": "code",
   "execution_count": 3,
   "metadata": {},
   "outputs": [],
   "source": [
    "for train_index , test_index in split.split(df_train,pd.concat([df_train.SEX,label_train],axis=1)):\n",
    "     X_train, y_train= df_train.iloc[train_index],label_train.iloc[train_index]\n",
    "     X_val, y_val = df_train.iloc[test_index], label_train.iloc[test_index]\n",
    "#X_train ,y_train= df_train.iloc[:10,:] ,label_train.iloc[:10]"
   ]
  },
  {
   "cell_type": "code",
   "execution_count": 4,
   "metadata": {},
   "outputs": [],
   "source": [
    "from sklearn.pipeline import Pipeline\n",
    "from sklearn.svm import LinearSVC\n",
    "from sklearn.svm import SVC\n",
    "from sklearn.linear_model import SGDClassifier\n",
    "from sklearn.preprocessing import StandardScaler\n",
    "from sklearn.preprocessing import MinMaxScaler"
   ]
  },
  {
   "cell_type": "code",
   "execution_count": 5,
   "metadata": {},
   "outputs": [],
   "source": [
    "from sklearn.metrics import confusion_matrix"
   ]
  },
  {
   "cell_type": "code",
   "execution_count": 6,
   "metadata": {},
   "outputs": [],
   "source": [
    "from sklearn.metrics import precision_score, recall_score\n"
   ]
  },
  {
   "cell_type": "code",
   "execution_count": 7,
   "metadata": {},
   "outputs": [],
   "source": [
    "def pre_rec_score(y_train,y_pred):\n",
    "    pre_score = precision_score(y_train,y_pred)\n",
    "    print(f'precision : {pre_score}')\n",
    "    rec_score = recall_score(y_train,y_pred)\n",
    "    print(f'recall : {rec_score}')"
   ]
  },
  {
   "attachments": {},
   "cell_type": "markdown",
   "metadata": {},
   "source": [
    "## LinearSVC : most basic and fast"
   ]
  },
  {
   "cell_type": "code",
   "execution_count": 8,
   "metadata": {},
   "outputs": [
    {
     "name": "stdout",
     "output_type": "stream",
     "text": [
      "[[12772   370]\n",
      " [ 2934   799]]\n",
      "precision : 0.6834901625320787\n",
      "recall : 0.21403696758639165\n"
     ]
    }
   ],
   "source": [
    "pipe = Pipeline([('base',BasicTransformer()),\n",
    "                ('scaler',StandardScaler()),\n",
    "                ('estimator',LinearSVC(max_iter = 10000,random_state=42))\n",
    "                ])\n",
    "pipe.fit(X_train,y_train)\n",
    "y_pred = pipe.predict(X_train)\n",
    "cf_matrix =confusion_matrix(y_train,y_pred)\n",
    "print(cf_matrix)\n",
    "pre_rec_score(y_train,y_pred)"
   ]
  },
  {
   "attachments": {},
   "cell_type": "markdown",
   "metadata": {},
   "source": [
    "## SVC : RGF kernel"
   ]
  },
  {
   "cell_type": "code",
   "execution_count": 10,
   "metadata": {},
   "outputs": [
    {
     "name": "stdout",
     "output_type": "stream",
     "text": [
      "[[12509   633]\n",
      " [ 2394  1339]]\n",
      "precision : 0.6790060851926978\n",
      "recall : 0.35869274042325205\n"
     ]
    }
   ],
   "source": [
    "pipe = Pipeline([('base',BasicTransformer()),\n",
    "                ('scaler',MinMaxScaler()),\n",
    "                ('estimator',SVC(random_state=42))\n",
    "                ])\n",
    "pipe.fit(X_train,y_train)\n",
    "y_pred = pipe.predict(X_train)\n",
    "cf_matrix =confusion_matrix(y_train,y_pred)\n",
    "print(cf_matrix)\n",
    "pre_rec_score(y_train,y_pred)"
   ]
  },
  {
   "attachments": {},
   "cell_type": "markdown",
   "metadata": {},
   "source": [
    "## Standard scaler vs MinMax scaler"
   ]
  },
  {
   "cell_type": "code",
   "execution_count": 11,
   "metadata": {},
   "outputs": [
    {
     "name": "stdout",
     "output_type": "stream",
     "text": [
      "[[12615   527]\n",
      " [ 2389  1344]]\n",
      "precision : 0.7183324425440941\n",
      "recall : 0.3600321457272971\n"
     ]
    }
   ],
   "source": [
    "pipe = Pipeline([('base',BasicTransformer()),\n",
    "                ('scaler',StandardScaler()),\n",
    "                ('estimator',SVC(random_state=42))\n",
    "                ])\n",
    "pipe.fit(X_train,y_train)\n",
    "y_pred = pipe.predict(X_train)\n",
    "cf_matrix =confusion_matrix(y_train,y_pred)\n",
    "print(cf_matrix)\n",
    "pre_rec_score(y_train,y_pred)"
   ]
  },
  {
   "attachments": {},
   "cell_type": "markdown",
   "metadata": {},
   "source": [
    "## SGDC"
   ]
  },
  {
   "cell_type": "code",
   "execution_count": 12,
   "metadata": {},
   "outputs": [
    {
     "name": "stdout",
     "output_type": "stream",
     "text": [
      "[[12532   610]\n",
      " [ 2644  1089]]\n",
      "precision : 0.6409652736904061\n",
      "recall : 0.29172247522100186\n"
     ]
    }
   ],
   "source": [
    "pipe = Pipeline([('base',BasicTransformer()),\n",
    "                ('scaler',StandardScaler()),\n",
    "                ('estimator',SGDClassifier(random_state=42))\n",
    "                ])\n",
    "pipe.fit(X_train,y_train)\n",
    "y_pred = pipe.predict(X_train)\n",
    "cf_matrix =confusion_matrix(y_train,y_pred)\n",
    "print(cf_matrix)\n",
    "pre_rec_score(y_train,y_pred)"
   ]
  },
  {
   "attachments": {},
   "cell_type": "markdown",
   "metadata": {},
   "source": [
    "## SVC: sigmoid"
   ]
  },
  {
   "cell_type": "code",
   "execution_count": 16,
   "metadata": {},
   "outputs": [
    {
     "name": "stdout",
     "output_type": "stream",
     "text": [
      "[[10782  2360]\n",
      " [ 2408  1325]]\n",
      "precision : 0.35956580732700133\n",
      "recall : 0.3549424055719261\n"
     ]
    }
   ],
   "source": [
    "pipe = Pipeline([('base',BasicTransformer()),\n",
    "                ('scaler',StandardScaler()),\n",
    "                ('estimator',SVC(kernel='sigmoid',random_state=42))\n",
    "                ])\n",
    "pipe.fit(X_train,y_train)\n",
    "y_pred = pipe.predict(X_train)\n",
    "cf_matrix =confusion_matrix(y_train,y_pred)\n",
    "print(cf_matrix)\n",
    "pre_rec_score(y_train,y_pred)"
   ]
  },
  {
   "cell_type": "code",
   "execution_count": 13,
   "metadata": {},
   "outputs": [],
   "source": [
    "from sklearn.model_selection import GridSearchCV"
   ]
  },
  {
   "cell_type": "code",
   "execution_count": 14,
   "metadata": {
    "execution": {
     "iopub.execute_input": "2023-01-02T17:22:52.661488Z",
     "iopub.status.busy": "2023-01-02T17:22:52.661096Z",
     "iopub.status.idle": "2023-01-02T17:23:08.227189Z",
     "shell.execute_reply": "2023-01-02T17:23:08.225312Z",
     "shell.execute_reply.started": "2023-01-02T17:22:52.661457Z"
    },
    "trusted": true
   },
   "outputs": [],
   "source": [
    "# pipe = Pipeline([('base',BasicTransformer()),\n",
    "#                 ('scaler',StandardScaler()),\n",
    "#                 ('est',SVC(random_state=42))\n",
    "#                 ])\n",
    "# param_grid = {\n",
    "#     'est__C':[0.0005,0.001,0.01,0.1,0.4,0.8,1.0],\n",
    "#     #'est__kernel' : ['linear','poly','rbf','sigmoid'],\n",
    "#     'est__kernel' : ['linear','poly','rbf','sigmoid'],\n",
    "#     'est__degree' : [3,5],\n",
    "#     'est__gamma' : ['scale','auto',5],\n",
    "#     'est__coef0' : [0,0.5,1],\n",
    "# }\n",
    "# search = GridSearchCV(pipe, \n",
    "#                       scoring='recall',\n",
    "#                       verbose=2,\n",
    "#                       param_grid=param_grid, n_jobs=2)\n",
    "# search.fit(X_train,y_train)\n",
    "# print(search.cv_results_)\n",
    "# print(search.best_estimator_)\n",
    "# print(search.best_score_)\n",
    "# print(search.best_params_)\n",
    "# y_pred = search.predict(X_train)\n",
    "# cf_matrix =confusion_matrix(y_train,y_pred)\n",
    "# print(cf_matrix)\n",
    "# pre_rec_score(y_train,y_pred)"
   ]
  },
  {
   "cell_type": "code",
   "execution_count": 15,
   "metadata": {},
   "outputs": [
    {
     "data": {
      "image/png": "[encoded data removed]",
      "text/plain": [
       "<Figure size 432x288 with 1 Axes>"
      ]
     },
     "metadata": {
      "needs_background": "light"
     },
     "output_type": "display_data"
    },
    {
     "data": {
      "image/png": "[encoded data removed]",
      "text/plain": [
       "<Figure size 432x288 with 1 Axes>"
      ]
     },
     "metadata": {
      "needs_background": "light"
     },
     "output_type": "display_data"
    }
   ],
   "source": [
    "from sklearn.metrics import precision_recall_curve\n",
    "from sklearn.metrics import PrecisionRecallDisplay\n",
    "y_score = pipe.decision_function(X_train)\n",
    "display = PrecisionRecallDisplay.from_predictions(y_train,y_score)\n",
    "precisions , recalls , thresholds = precision_recall_curve(y_train, y_score)\n",
    "precisions.shape\n",
    "def plot_precision_recall_vs_threshold(precisions, recalls, thresholds):\n",
    "    plt.plot(thresholds, precisions[:-1], 'b--', label=\"Precision\")\n",
    "    plt.plot(thresholds, recalls[:-1], 'g-',label=\"recall\")\n",
    "    plt.xlabel(\"thresholds\")\n",
    "    plt.legend(loc=\"upper left\")\n",
    "    plt.ylim([0,1])\n",
    "\n",
    "plot_precision_recall_vs_threshold(precisions, recalls, thresholds)\n",
    "plt.show()\n",
    "plt.plot(recalls, precisions)\n",
    "plt.show()"
   ]
  }
 ],
 "metadata": {
  "kernelspec": {
   "display_name": "Python 3.10.4 64-bit",
   "language": "python",
   "name": "python3"
  },
  "language_info": {
   "codemirror_mode": {
    "name": "ipython",
    "version": 3
   },
   "file_extension": ".py",
   "mimetype": "text/x-python",
   "name": "python",
   "nbconvert_exporter": "python",
   "pygments_lexer": "ipython3",
   "version": "3.10.4"
  },
  "orig_nbformat": 4,
  "vscode": {
   "interpreter": {
    "hash": "2684a7f0d802170d85c632738c0cde4596fc61c431d1dcda6b979c60ccca6dcc"
   }
  }
 },
 "nbformat": 4,
 "nbformat_minor": 2
}
